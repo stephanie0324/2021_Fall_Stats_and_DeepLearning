{
 "cells": [
  {
   "cell_type": "markdown",
   "metadata": {},
   "source": [
    "# HW1(10/14)"
   ]
  },
  {
   "cell_type": "markdown",
   "metadata": {},
   "source": [
    "## 第一題[myknn_regressor]"
   ]
  },
  {
   "cell_type": "markdown",
   "metadata": {},
   "source": [
    "### Q1.1 Create your myknn_regressor based on the skeleton.\n",
    "* use the \"brute-force\" method to find the nearest neighbors.\n",
    "* set \"equal_weight\"\n",
    "* set \"remove_outliers\""
   ]
  },
  {
   "cell_type": "markdown",
   "metadata": {},
   "source": [
    "#### import packages"
   ]
  },
  {
   "cell_type": "code",
   "execution_count": 2,
   "metadata": {},
   "outputs": [],
   "source": [
    "import numpy as np\n",
    "import pickle"
   ]
  },
  {
   "cell_type": "code",
   "execution_count": 30,
   "metadata": {},
   "outputs": [],
   "source": [
    "class myknn_regressor():\n",
    "    def __init__(self, n_neighbors, mean_type):\n",
    "        \"\"\"mean_type can be equal_weight or remove_outliers.\n",
    "                              equal_weight use the same weight for all neighbors.\n",
    "                              remove_outliers remove neighbors out in [Q1 - 1.5 IQR, Q3 + 1.5IQR].\"\"\"\n",
    "        ### Add your code here ### \n",
    "        self.n_neighbors = n_neighbors\n",
    "        self.mean_type = mean_type\n",
    "        \n",
    "    def fit(self, x_train, y_train):\n",
    "         ### Add your code here ###\n",
    "        self.stand_x_train =  self.standardize(x_train)\n",
    "        self.y_train = y_train\n",
    "    \n",
    "    #### Equal_weight ####\n",
    "    def equal_weight(self,x):\n",
    "        return sum(x)/len(x)\n",
    "    \n",
    "    #### Remove_outliers ####\n",
    "    def remove_outlier(self,x):\n",
    "        list_x = []\n",
    "        q1, q3= np.percentile(x, [25,75])\n",
    "        iqr = q3 - q1\n",
    "        lower_bound = q1 - (1.5 * iqr) \n",
    "        upper_bound = q3 + (1.5 * iqr)\n",
    "        for i in range(len(x)):\n",
    "            if lower_bound <= x[i] <= upper_bound:\n",
    "                list_x.append(x[i])\n",
    "        return list_x\n",
    "    \n",
    "    #### Create L2 Norm ####\n",
    "    \n",
    "    def eu_dist(self,x,y):\n",
    "        return np.sqrt(np.sum((x - y)**2, axis=0))\n",
    "    \n",
    "    #### Standardization ####\n",
    "    ## operands could not be broadcast together with shapes (3000,90) (5000,90) ##\n",
    "    ## need to standarize the x ,y ##\n",
    "    \n",
    "    def standardize(self,x):\n",
    "        y = (x - np.mean(x, axis=0)) / np.std(x, axis=0)\n",
    "        return y\n",
    "    \n",
    "    #### Create own KNN ####\n",
    "   \n",
    "    def myknn(self,x_test):\n",
    "        \n",
    "        stand_x_test = self.standardize(x_test)\n",
    "        dist_arr=[]\n",
    "        for x in stand_x_test:\n",
    "            point_dist= []\n",
    "            for train_x in self.stand_x_train:\n",
    "                dist = self.eu_dist(x,train_x)\n",
    "                point_dist.append(dist)\n",
    "            dist_arr.append(point_dist)\n",
    "        \n",
    "        list_y =[]\n",
    "        for dist in dist_arr:\n",
    "            sorted_index=[index for index,num in sorted(enumerate(dist),key = lambda x:x[-1])]\n",
    "            min_sorted_index = sorted_index[:self.n_neighbors]\n",
    "            pred_y = []\n",
    "            for i in min_sorted_index:\n",
    "                y = self.y_train[i]\n",
    "                pred_y.append(y)\n",
    "            list_y.append(pred_y)\n",
    "        \n",
    "        return np.array(list_y)\n",
    "    \n",
    "    #### Prediction ####\n",
    "    def predict(self, x_test):\n",
    "        \n",
    "        ### Add your code here ###\n",
    "        #### First KNN ####\n",
    "        neighbors = self.myknn(x_test)\n",
    "        \n",
    "        predict_val =[]\n",
    "        for neighbor in neighbors:\n",
    "        \n",
    "            if(self.n_neighbors < 10):\n",
    "                val = self.equal_weight(neighbor)\n",
    "                predict_val.append(val)\n",
    "            else:\n",
    "                \"\"\"use remove_outliers only if k>=10\"\"\"\n",
    "                #### 要求使用 remove_outliers #####\n",
    "                #### 得出的結論要再取一次平均 ####\n",
    "                #### 此時 val 為一個陣列 ####\n",
    "                if(self.mean_type == \"remove_outliers\"):\n",
    "                    val = self.remove_outlier(neighbor)\n",
    "                    val = self.equal_weight(val)\n",
    "                    predict_val.append(val)\n",
    "                else:\n",
    "                    val = self.equal_weight(neighbor)\n",
    "                    predict_val.append(val)\n",
    "\n",
    "        y_pred = np.array(predict_val)\n",
    "        return y_pred"
   ]
  },
  {
   "cell_type": "markdown",
   "metadata": {},
   "source": [
    "#### 輸入dataset"
   ]
  },
  {
   "cell_type": "code",
   "execution_count": 31,
   "metadata": {},
   "outputs": [],
   "source": [
    "from sklearn import preprocessing\n",
    "\n",
    "\n",
    "# Load data\n",
    "with open('msd_data1.pickle', 'rb') as fh1:\n",
    "    msd_data = pickle.load(fh1)\n",
    "\n",
    "doscaling = 1\n",
    "\n",
    "if (doscaling == 1):\n",
    "    xscaler = preprocessing.StandardScaler().fit(msd_data['X_train'])\n",
    "    #standardize feature values\n",
    "    X_train_scaled = xscaler.transform(msd_data['X_train'])\n",
    "    X_test_scaled = xscaler.transform(msd_data['X_test'])\n",
    "else:\n",
    "    X_train_noscale = msd_data['X_train']\n",
    "    X_test_no_sclae = msd_data['X_test']\n",
    "\n",
    "    \n",
    "# no scale\n",
    "X_train = msd_data['X_train']\n",
    "X_test = msd_data['X_test']\n",
    "Y_train = msd_data['Y_train']\n",
    "Y_test = msd_data['Y_test']"
   ]
  },
  {
   "cell_type": "markdown",
   "metadata": {},
   "source": [
    "#### 觀察資料"
   ]
  },
  {
   "cell_type": "code",
   "execution_count": 112,
   "metadata": {},
   "outputs": [
    {
     "data": {
      "text/plain": [
       "(3000,)"
      ]
     },
     "execution_count": 112,
     "metadata": {},
     "output_type": "execute_result"
    }
   ],
   "source": [
    "msd_data\n",
    "Y_test.shape"
   ]
  },
  {
   "cell_type": "markdown",
   "metadata": {},
   "source": [
    "#### RMSE calculation"
   ]
  },
  {
   "cell_type": "code",
   "execution_count": 33,
   "metadata": {},
   "outputs": [],
   "source": [
    "def RMSE(pred, ans):\n",
    "    sum= 0\n",
    "    for i in range(len(ans)):\n",
    "        diff = (pred[i] - ans[i])**2\n",
    "        sum += diff\n",
    "    rmse = np.sqrt(sum/(len(ans)))\n",
    "    np_rmse = np.array(rmse)\n",
    "    return np_rmse"
   ]
  },
  {
   "cell_type": "markdown",
   "metadata": {},
   "source": [
    "#### Q1.2 Make predictions using k=20 and \"equal_weight\"\n",
    "* Standardize all feature values to have a zero mean and unit variance before training a KNN model\n",
    "* List the RMSE and the first 20 predictions in the test data."
   ]
  },
  {
   "cell_type": "code",
   "execution_count": 34,
   "metadata": {},
   "outputs": [
    {
     "name": "stdout",
     "output_type": "stream",
     "text": [
      "RMSE: 10.292158827638321\n",
      "First 20 predictions:  [1992.9  1994.05 2000.05 1991.5  1992.8  1998.5  1987.1  1990.9  2001.8\n",
      " 2003.   2001.15 1998.65 1995.55 1997.2  1995.05 1997.35 1992.15 1999.1\n",
      " 2003.6  1995.75]\n"
     ]
    }
   ],
   "source": [
    "myknn_1 = myknn_regressor(20, \"equal_weight\")\n",
    "myknn_1.fit(X_train_scaled, Y_train)\n",
    "ypred_1 = myknn_1.predict(X_test_scaled)\n",
    "rmse_1 = RMSE(ypred_1,Y_test)\n",
    "print(\"RMSE:\",rmse_1)\n",
    "print(\"First 20 predictions: \",ypred_1[:20])"
   ]
  },
  {
   "cell_type": "markdown",
   "metadata": {},
   "source": [
    "#### Q1.3 Make predictions using k=20 and \"remove_outliers\"\n",
    "* Standardize all feature values to have a zero mean and unit variance before training a KNN model\n",
    "* List the RMSE and the first 20 predictions in the test data."
   ]
  },
  {
   "cell_type": "code",
   "execution_count": 35,
   "metadata": {},
   "outputs": [
    {
     "name": "stdout",
     "output_type": "stream",
     "text": [
      "RMSE: 10.225720983625134\n",
      "First 20 predictions:  [1992.9        1994.05       2000.05       1992.73684211 1992.8\n",
      " 2000.         1987.1        1990.9        2001.8        2003.94736842\n",
      " 2001.15       2000.94444444 1995.55       1997.2        1998.61111111\n",
      " 1997.35       1992.15       2004.23529412 2003.6        1995.75      ]\n"
     ]
    }
   ],
   "source": [
    "myknn_2 = myknn_regressor(20, \"remove_outliers\")\n",
    "myknn_2.fit(X_train_scaled, Y_train)\n",
    "ypred_2 = myknn_2.predict(X_test_scaled)\n",
    "rmse_2 = RMSE(ypred_2,Y_test)\n",
    "print(\"RMSE:\",rmse_2)\n",
    "print(\"First 20 predictions: \",ypred_2[:20])"
   ]
  },
  {
   "cell_type": "markdown",
   "metadata": {},
   "source": [
    "#### Result\n",
    "1. remove_outliers 的RMSE相較 equal_weight 的低一點點，應該是因為已經先去除一些雜值之後，效果變好。然而差異不大，應該是因為本身的資料沒有太多差異較大的值。"
   ]
  },
  {
   "cell_type": "markdown",
   "metadata": {},
   "source": [
    "## 第二題 [Tuning the Hyper-parameter]\n",
    "* Use the KNN regressor from sklearn.neighbors.KNeighborsRegressor for the first two settings\n",
    "* Use myknn_regressor for the third setting.\n",
    "* For each setting, plot a curve that shows the relations between  𝑘  (x-axis) and RMSE (y-axis)"
   ]
  },
  {
   "cell_type": "code",
   "execution_count": 36,
   "metadata": {},
   "outputs": [],
   "source": [
    "from sklearn import preprocessing\n",
    "from sklearn.neighbors import KNeighborsRegressor\n",
    "import matplotlib.pyplot as plt"
   ]
  },
  {
   "cell_type": "markdown",
   "metadata": {},
   "source": [
    "##### Functions"
   ]
  },
  {
   "cell_type": "code",
   "execution_count": 37,
   "metadata": {},
   "outputs": [],
   "source": [
    "k_list = [1,2,3,4,5,10,15,20,25,30,35,40,45,50,55,60,80,100,120,140,160,180,200]"
   ]
  },
  {
   "cell_type": "markdown",
   "metadata": {},
   "source": [
    "#### Case 1\n",
    "* all feature values are standardized to have unit variances and zero means.\n",
    "* caluclate the RMSE\n"
   ]
  },
  {
   "cell_type": "code",
   "execution_count": 38,
   "metadata": {},
   "outputs": [
    {
     "name": "stdout",
     "output_type": "stream",
     "text": [
      "RMSE of 1 : 13.911074724837043\n",
      "RMSE of 2 : 12.068170946750795\n",
      "RMSE of 3 : 11.389120864846118\n",
      "RMSE of 4 : 11.1123354880961\n",
      "RMSE of 5 : 10.894692897614583\n",
      "RMSE of 10 : 10.425998912973917\n",
      "RMSE of 15 : 10.318171959828582\n",
      "RMSE of 20 : 10.251264515495954\n",
      "RMSE of 25 : 10.237627225094682\n",
      "RMSE of 30 : 10.215977156359507\n",
      "RMSE of 35 : 10.205243203546752\n",
      "RMSE of 40 : 10.204332770527747\n",
      "RMSE of 45 : 10.20724317182286\n",
      "RMSE of 50 : 10.206033712139769\n",
      "RMSE of 55 : 10.20886238444681\n",
      "RMSE of 60 : 10.217002627247632\n",
      "RMSE of 80 : 10.231954198429065\n",
      "RMSE of 100 : 10.24729594738695\n",
      "RMSE of 120 : 10.264908458982786\n",
      "RMSE of 140 : 10.287098382403649\n",
      "RMSE of 160 : 10.317788599090445\n",
      "RMSE of 180 : 10.330995620176944\n",
      "RMSE of 200 : 10.351940397014145\n"
     ]
    }
   ],
   "source": [
    "rmse_sk_list =[]\n",
    "for i in k_list:\n",
    "    sk_knn = KNeighborsRegressor(n_neighbors= i, algorithm='brute')\n",
    "    sk_knn.fit(X_train_scaled,Y_train)\n",
    "    pred_sk = sk_knn.predict(X_test_scaled)\n",
    "    rmse_sk = RMSE(pred_sk,Y_test)\n",
    "    rmse_sk_list.append(rmse_sk)\n",
    "    print(\"RMSE of\",i,\":\",rmse_sk)"
   ]
  },
  {
   "cell_type": "code",
   "execution_count": 39,
   "metadata": {},
   "outputs": [
    {
     "data": {
      "image/png": "[encoded data removed]",
      "text/plain": [
       "<Figure size 432x288 with 1 Axes>"
      ]
     },
     "metadata": {
      "needs_background": "light"
     },
     "output_type": "display_data"
    }
   ],
   "source": [
    "# plt with scale\n",
    "plt.plot(k_list, rmse_sk_list)\n",
    "plt.show()"
   ]
  },
  {
   "cell_type": "markdown",
   "metadata": {},
   "source": [
    "#### Case 2\n",
    "* do not apply feature scaling."
   ]
  },
  {
   "cell_type": "code",
   "execution_count": 40,
   "metadata": {},
   "outputs": [
    {
     "name": "stdout",
     "output_type": "stream",
     "text": [
      "RMSE of 1 with no scaling: 14.923638966418345\n",
      "RMSE of 2 with no scaling: 12.777499755429464\n",
      "RMSE of 3 with no scaling: 12.075674967716077\n",
      "RMSE of 4 with no scaling: 11.767805657810635\n",
      "RMSE of 5 with no scaling: 11.466392632384453\n",
      "RMSE of 10 with no scaling: 11.077460900404935\n",
      "RMSE of 15 with no scaling: 10.88897913794797\n",
      "RMSE of 20 with no scaling: 10.797788546734951\n",
      "RMSE of 25 with no scaling: 10.790073017979692\n",
      "RMSE of 30 with no scaling: 10.750265612567011\n",
      "RMSE of 35 with no scaling: 10.717738719772298\n",
      "RMSE of 40 with no scaling: 10.714437504678774\n",
      "RMSE of 45 with no scaling: 10.698494013475859\n",
      "RMSE of 50 with no scaling: 10.69110105960404\n",
      "RMSE of 55 with no scaling: 10.68260873412441\n",
      "RMSE of 60 with no scaling: 10.672535729098705\n",
      "RMSE of 80 with no scaling: 10.662907517124506\n",
      "RMSE of 100 with no scaling: 10.677019504524656\n",
      "RMSE of 120 with no scaling: 10.68313963899639\n",
      "RMSE of 140 with no scaling: 10.687017556442067\n",
      "RMSE of 160 with no scaling: 10.691630026202139\n",
      "RMSE of 180 with no scaling: 10.69071978380711\n",
      "RMSE of 200 with no scaling: 10.69885337470018\n"
     ]
    }
   ],
   "source": [
    "rmse_sk_n_list=[]\n",
    "for i in k_list:\n",
    "    sk_knn = KNeighborsRegressor(n_neighbors= i, algorithm='brute')\n",
    "    sk_knn.fit(X_train,Y_train)\n",
    "    pred_sk_n = sk_knn.predict(X_test)\n",
    "    rmse_sk_n = RMSE(pred_sk_n,Y_test)\n",
    "    rmse_sk_n_list.append(rmse_sk_n)\n",
    "    print(\"RMSE of\",i,\"with no scaling:\",rmse_sk_n)"
   ]
  },
  {
   "cell_type": "code",
   "execution_count": 41,
   "metadata": {},
   "outputs": [
    {
     "data": {
      "image/png": "[encoded data removed]",
      "text/plain": [
       "<Figure size 432x288 with 1 Axes>"
      ]
     },
     "metadata": {
      "needs_background": "light"
     },
     "output_type": "display_data"
    }
   ],
   "source": [
    "# plt with noscale\n",
    "plt.plot(k_list, rmse_sk_n_list)\n",
    "plt.show()"
   ]
  },
  {
   "cell_type": "markdown",
   "metadata": {},
   "source": [
    "#### Case 3\n",
    "*  standardized features and adopted myknn_regressor with \"remove_outlier\""
   ]
  },
  {
   "cell_type": "code",
   "execution_count": 42,
   "metadata": {},
   "outputs": [
    {
     "name": "stdout",
     "output_type": "stream",
     "text": [
      "RMSE of 1 using my_knn : 13.94019368588543\n",
      "RMSE of 2 using my_knn : 12.097861381252473\n",
      "RMSE of 3 using my_knn : 11.448255568231989\n",
      "RMSE of 4 using my_knn : 11.043653909221652\n",
      "RMSE of 5 using my_knn : 10.900440969673362\n",
      "RMSE of 10 using my_knn : 10.514337993290836\n",
      "RMSE of 15 using my_knn : 10.343823629898093\n",
      "RMSE of 20 using my_knn : 10.225720983625134\n",
      "RMSE of 25 using my_knn : 10.213345451143013\n",
      "RMSE of 30 using my_knn : 10.1880791936093\n",
      "RMSE of 35 using my_knn : 10.161597862384475\n",
      "RMSE of 40 using my_knn : 10.095243787687686\n",
      "RMSE of 45 using my_knn : 10.056682304105303\n",
      "RMSE of 50 using my_knn : 10.089018275220822\n",
      "RMSE of 55 using my_knn : 10.076818047624421\n",
      "RMSE of 60 using my_knn : 10.089731397690315\n",
      "RMSE of 80 using my_knn : 10.067742577227312\n",
      "RMSE of 100 using my_knn : 10.063088284816114\n",
      "RMSE of 120 using my_knn : 10.088531815151669\n",
      "RMSE of 140 using my_knn : 10.105973734512313\n",
      "RMSE of 160 using my_knn : 10.10905585091357\n",
      "RMSE of 180 using my_knn : 10.143134931440638\n",
      "RMSE of 200 using my_knn : 10.170153335037122\n"
     ]
    }
   ],
   "source": [
    "rmse_sk_3_list=[]\n",
    "for i in k_list:\n",
    "    myknn_3 = myknn_regressor(i, \"remove_outliers\")\n",
    "    myknn_3.fit(X_train_scaled, Y_train)\n",
    "    ypred_3 = myknn_3.predict(X_test_scaled)\n",
    "    rmse_3 = RMSE(ypred_3,Y_test)\n",
    "    rmse_sk_3_list.append(rmse_3)\n",
    "    print(\"RMSE of\",i,\"using my_knn :\",rmse_3)"
   ]
  },
  {
   "cell_type": "code",
   "execution_count": 43,
   "metadata": {},
   "outputs": [
    {
     "data": {
      "image/png": "[encoded data removed]",
      "text/plain": [
       "<Figure size 432x288 with 1 Axes>"
      ]
     },
     "metadata": {
      "needs_background": "light"
     },
     "output_type": "display_data"
    }
   ],
   "source": [
    "# plt wuth my_knn\n",
    "plt.plot(k_list, rmse_sk_3_list)\n",
    "plt.show()"
   ]
  },
  {
   "cell_type": "markdown",
   "metadata": {},
   "source": [
    "#### Result"
   ]
  },
  {
   "cell_type": "code",
   "execution_count": 44,
   "metadata": {},
   "outputs": [
    {
     "data": {
      "image/png": "[encoded data removed]",
      "text/plain": [
       "<Figure size 432x288 with 1 Axes>"
      ]
     },
     "metadata": {
      "needs_background": "light"
     },
     "output_type": "display_data"
    }
   ],
   "source": [
    "# plt three resuult together\n",
    "plt.plot(k_list, rmse_sk_list, color='green', label='features standerdized')\n",
    "plt.plot(k_list, rmse_sk_n_list, color='red', label='non features standerdized')\n",
    "plt.plot(k_list, rmse_sk_3_list, color='blue', label='myknn')\n",
    "plt.legend()\n",
    "\n",
    "plt.xlabel('k')\n",
    "plt.ylabel('RMSE')\n",
    "plt.show()"
   ]
  },
  {
   "cell_type": "markdown",
   "metadata": {},
   "source": [
    "#### Result\n",
    "1. RMSE 皆在0-25的區間快速下降\n",
    "2. 沒有標準化的特徵明顯誤差高於其他兩項\n",
    "3. 在選取 K 值的時候可以選的較大\n",
    "4. 自己做的my_knn 明顯化的時間很多，大約花了20 多分鐘"
   ]
  },
  {
   "cell_type": "markdown",
   "metadata": {},
   "source": [
    "## Case 3 [Lasso Regression]"
   ]
  },
  {
   "cell_type": "markdown",
   "metadata": {},
   "source": [
    "#### Q3.1 推導新的Coordinate Descent with Soft Thresholding公式\n"
   ]
  },
  {
   "cell_type": "markdown",
   "metadata": {},
   "source": [
    "$$\n",
    "w_j = \\frac{\\sum^N_{i=1}(y_i-\\tilde{w^T_{-j}\\phi_{n,-j}})\\phi_{i,j}-\\lambda sgn(w_j)}{n\\sum^N_{i=1} \\phi^2_{i,j}}\n",
    "$$"
   ]
  },
  {
   "cell_type": "markdown",
   "metadata": {},
   "source": [
    "#### Q3.2 mylasso\n",
    "* 盡量做矩陣運算\n",
    "* 這裡將 dL/dw 改寫成\n",
    "$$\n",
    "\\frac{dL(w)}{dw_j} = \\frac{-1}{N}\\rho_j+\\frac{1}{N}\\tilde{w_j}z_j\n",
    "$$\n",
    "$$\n",
    "\\rho_j = (\\sum^N_{i=1}\\tilde{-x^{i}_j}(y^i-(\\sum^N_{k \\neq j}\\tilde{w_k}\\tilde{x_j})))\n",
    "$$\n",
    "$$\n",
    "z_j= (\\sum^N_{i=1}\\tilde{x^{i}_j})^2\n",
    "$$\n",
    "\n",
    "* 做 rho_compute => calculate sum of residual\n",
    "* 做 z_compute => calculate the regulariser term"
   ]
  },
  {
   "cell_type": "markdown",
   "metadata": {},
   "source": [
    "##### 輸入資料"
   ]
  },
  {
   "cell_type": "code",
   "execution_count": 131,
   "metadata": {},
   "outputs": [
    {
     "name": "stdout",
     "output_type": "stream",
     "text": [
      "5000\n"
     ]
    }
   ],
   "source": [
    "#load the dataset, and create normalized and raw features. \n",
    "\n",
    "np.set_printoptions(suppress=True)\n",
    "\n",
    "#Load data\n",
    "with open('msd_data1.pickle', 'rb') as fh1:\n",
    "    msd_data = pickle.load(fh1)\n",
    "\n",
    "xscaler = preprocessing.StandardScaler().fit(msd_data['X_train'])\n",
    "#standardize feature values\n",
    "X_train_sd = xscaler.transform(msd_data['X_train'])\n",
    "X_test_sd = xscaler.transform(msd_data['X_test'])\n",
    "\n",
    "#outcome values\n",
    "Y_train = msd_data['Y_train']\n",
    "Y_test = msd_data['Y_test']\n",
    "\n"
   ]
  },
  {
   "cell_type": "markdown",
   "metadata": {},
   "source": [
    "##### 製作 my_lasso"
   ]
  },
  {
   "cell_type": "code",
   "execution_count": 122,
   "metadata": {},
   "outputs": [],
   "source": [
    "class mylasso():\n",
    "    def __init__(self, lamcoef = 0.1, max_iter=1000, tol=1e-6, const_regu = False):\n",
    "        \"\"\"lamcoef: the regularization coefficient\n",
    "           max_iter: maximum number of iteration for model training\n",
    "           tol: tolerance for the stopping criteria for model training\n",
    "           const_regu: whether the constant term should be regularized, default to False\n",
    "           \"\"\"\n",
    "        ### Add your code here ###\n",
    "        self.lamcoef = lamcoef\n",
    "        self.max_iter = max_iter\n",
    "        self.tol = tol\n",
    "        self.const_regu = const_regu\n",
    "        \n",
    "\n",
    "    def fit(self, x_train, y_train, winit = \"ridge\", keep_traindata = True, verbose = False):\n",
    "        \"\"\"Fit a Lasso model\n",
    "           x_train: a numpy matrix that contains training features\n",
    "           y_train: a numpy matrix that contains the label\n",
    "           winit: how weights are initialized, default to \"ridge\", ridge regression\n",
    "           keep_traindata: whether the object is going to keep training data after the training process completed\n",
    "           verbose: output a lot of message\"\"\"\n",
    "        ### Add your code here ###\n",
    "        self.x_train = x_train\n",
    "        self.y_train = y_train\n",
    "        \n",
    "        self.winit = winit\n",
    "        self.keep_traindata = keep_traindata\n",
    "        self.verbose = verbose\n",
    "        \n",
    "        #### 加上常數項 ####\n",
    "        #x_train中沒有一個全為1的Column，也就是說模型要自己加上常數項\n",
    "        self.x_withconst = np.column_stack((np.ones((x_train.shape[0],1)),x_train)) \n",
    "        #### calculate the weight ####\n",
    "        \n",
    "        self.w = np.zeros(self.x_withconst.shape[1], dtype = float)\n",
    "        \n",
    "        #### pre cal z ####\n",
    "        self.z_origin = np.sum(self.x_withconst*self.x_withconst, axis = 0)\n",
    "        \n",
    "    #### calculate the matrix ####\n",
    "    def predictions(self,x_withconst, weight):\n",
    "        prediction = np.matmul(x_withconst,weight) # n x 1\n",
    "        return(prediction)\n",
    "        \n",
    "    #### rho computation #####\n",
    "    def rho_compute(self,y_train,x_withconst,weight,j):\n",
    "        #j is the feature selector\n",
    "        x_j = x_withconst[j]\n",
    "        w_j= weight[j]\n",
    "        x_k = np.delete(x_withconst,j,1) #Remove the j variable i.e. j column\n",
    "        w_k = np.delete(weight,j) #Remove the weight j\n",
    "        w_0 = x_j.dot(w_j)\n",
    "        predict_k = self.predictions(x_k, w_k)\n",
    "        residual = y_train - predict_k\n",
    "        rho_j = np.sum(x_withconst[:,j]*residual)\n",
    "        return(rho_j)\n",
    "        \n",
    "        \n",
    "        \n",
    "    #### calculate weight ####\n",
    "    def coordinate_descent(self,y,x_withconst):\n",
    "        max_iter = self.max_iter\n",
    "        iteration = 0\n",
    "        new_w = self.w\n",
    "        z = self.z_origin\n",
    "        while(max_iter > iteration):\n",
    "            iteration += 1\n",
    " \n",
    "            for j in range(len(new_w)): \n",
    "                rho_j = self.rho_compute(y,x_withconst,new_w,j)\n",
    "                if j == 0: \n",
    "                    new_w[j] = rho_j/z[j]\n",
    "                elif rho_j < -self.lamcoef*len(y):\n",
    "                    new_w[j] = (rho_j + (self.lamcoef*len(y)))/z[j]\n",
    "                elif rho_j > -self.lamcoef*len(y) and rho_j < self.lamcoef*len(y):\n",
    "                    new_w[j] = 0.\n",
    "                elif rho_j > self.lamcoef*len(y):\n",
    "                    new_w[j] = (rho_j - (self.lamcoef*len(y)))/z[j]\n",
    "                else:\n",
    "                    new_w[j] = np.NaN\n",
    "\n",
    "        return new_w\n",
    "        \n",
    "\n",
    "\n",
    "    def predict(self, x_test):\n",
    "        \"\"\"Make prediction using trained model\"\"\"\n",
    "\n",
    "        ### Add your code here ###\n",
    "        w = self.coordinate_descent(self.y_train,self.x_withconst)\n",
    "        x_with_intercept = np.column_stack((np.ones((x_test.shape[0],1)),x_test)) \n",
    "     \n",
    "        return (x_with_intercept.dot(w), w)\n",
    "       \n",
    "            "
   ]
  },
  {
   "cell_type": "markdown",
   "metadata": {},
   "source": [
    "#### Q 3.3 載入資料集，並且使用訓練資料計算Lasso Regression的權重，設定lamcoef = 0.1\n",
    "* 列出Training Loss、RMSE in Training Data、MAE in Training Data、Intercept、Feature Weights 、非零權重的個數。\n",
    "* 為了讓結果容易閱讀，請使用`np.set_printoptions(suppress=True)`關閉Scientific Notation。"
   ]
  },
  {
   "cell_type": "markdown",
   "metadata": {},
   "source": [
    "#### Loss Calculation"
   ]
  },
  {
   "cell_type": "code",
   "execution_count": 115,
   "metadata": {},
   "outputs": [],
   "source": [
    "#### calculate loss\n",
    "def loss_cal(pred,ans,weight,lamcoef):\n",
    "    total_loss=0\n",
    "    weight_loss=0\n",
    "    for i in range(len(ans)):\n",
    "        diff = (pred[i]-ans[i])**2\n",
    "        total_loss+= diff\n",
    "    total_loss = total_loss/(2*(len(ans)))\n",
    "    weight_loss = np.sum(weight, axis = 0)\n",
    "    weight_loss = weight_loss/(len(ans))\n",
    "    total_loss +=lamcoef*weight_loss\n",
    "    return total_loss"
   ]
  },
  {
   "cell_type": "markdown",
   "metadata": {},
   "source": [
    "#### MAE Calculation"
   ]
  },
  {
   "cell_type": "code",
   "execution_count": 116,
   "metadata": {},
   "outputs": [],
   "source": [
    "##### MAE\n",
    "def MAE(pred, ans):\n",
    "    sum= 0\n",
    "    for i in range(len(ans)):\n",
    "        diff = abs(pred[i] - ans[i])\n",
    "        sum += diff\n",
    "    mae = sum/(len(ans))\n",
    "    np_mae = np.array(mae)\n",
    "    return np_mae"
   ]
  },
  {
   "cell_type": "markdown",
   "metadata": {},
   "source": [
    "#### Non-zero Calculation"
   ]
  },
  {
   "cell_type": "code",
   "execution_count": 117,
   "metadata": {},
   "outputs": [],
   "source": [
    "#### non_zero\n",
    "def non_zero_cal(weight):\n",
    "    cnt =0\n",
    "    for i in range(len(weight)):\n",
    "        if(weight[i]!=0):\n",
    "            cnt+=1\n",
    "    return cnt"
   ]
  },
  {
   "cell_type": "code",
   "execution_count": 132,
   "metadata": {},
   "outputs": [],
   "source": [
    "mlo = mylasso(lamcoef = 0.1)\n",
    "mlo.fit(X_train_sd, Y_train)\n",
    "ypred_lasso_train , feature_weight_train = mlo.predict(X_train_sd)"
   ]
  },
  {
   "cell_type": "code",
   "execution_count": 134,
   "metadata": {},
   "outputs": [
    {
     "name": "stdout",
     "output_type": "stream",
     "text": [
      "Training Loss : 47.2393169329714\n",
      "RMSE in training data : 9.719600578519927\n",
      "MAE in training data : 6.980979212276891\n",
      "Intercept : 1998.266\n",
      "Feature wights : \n",
      "[ 4.65149469 -2.45726579 -1.06326999  0.         -0.34231573 -2.94695043\n",
      "  0.         -0.39967846 -0.42647184  0.         -0.23508782 -0.39505721\n",
      "  0.50377845  0.         -0.33977548  0.61321153  0.15721976  0.43025983\n",
      "  0.43548803  1.12847847  0.40665286  0.          1.78001172  0.\n",
      " -0.16839325  0.07844224  0.66198864  0.01250811  0.15398749  0.\n",
      " -0.21773677 -0.22184915  0.         -0.0026038  -0.01729687 -0.26084155\n",
      "  0.          0.28998407  0.34870842  0.         -0.26111139 -0.14456046\n",
      " -0.01017548  0.03508809 -0.03985507  0.          0.00309025 -0.17737277\n",
      "  0.          0.06481336  0.27116205  0.          0.          0.\n",
      "  0.          0.         -0.6373202   0.23816168 -0.18988466  0.\n",
      " -0.18883914  0.         -0.13593493  0.06122665 -0.2662238   0.\n",
      "  0.          0.         -0.03118913  0.         -0.19311313  0.01225373\n",
      "  0.20725809  0.25121473  0.12277347  0.          0.         -0.52928878\n",
      "  0.          0.          0.17839647  0.02418344  0.25336199  0.1939631\n",
      "  0.37074685  0.          0.         -0.29145073  0.          0.        ]\n",
      "Number of non-zero wieghts : 59\n"
     ]
    }
   ],
   "source": [
    "loss = train_loss_cal(ypred_lasso_train,Y_train,feature_weight,0.01)\n",
    "print(\"Training Loss :\" , loss)\n",
    "print(\"RMSE in training data :\", RMSE(ypred_lasso_train,Y_train))\n",
    "print(\"MAE in training data :\" , MAE(ypred_lasso_train,Y_train ))\n",
    "print(\"Intercept :\" ,feature_weight_train[0] )\n",
    "print(\"Feature wights : \")\n",
    "print(feature_weight_train[1:])\n",
    "non_zero_cnt = non_zero_cal(feature_weight_train[1:])\n",
    "print(\"Number of non-zero wieghts :\",non_zero_cnt)\n"
   ]
  },
  {
   "cell_type": "markdown",
   "metadata": {},
   "source": [
    "##### Q3.4 列出前五筆資料的預測年分、Test RMSE、Test MAE。\n"
   ]
  },
  {
   "cell_type": "code",
   "execution_count": 136,
   "metadata": {},
   "outputs": [],
   "source": [
    "ypred_lasso_test , feature_weight_test = mlo.predict(X_test_sd)"
   ]
  },
  {
   "cell_type": "code",
   "execution_count": 137,
   "metadata": {},
   "outputs": [
    {
     "name": "stdout",
     "output_type": "stream",
     "text": [
      "RMSE in testing data : 9.648443085014055\n",
      "MAE in testing data : 6.921387847490453\n",
      "Prediction of first five data : [1991.93312327 1999.07320633 2001.75518225 1991.30428095 1994.42458692]\n"
     ]
    }
   ],
   "source": [
    "print(\"RMSE in testing data :\", RMSE(ypred_lasso_test,Y_test))\n",
    "print(\"MAE in testing data :\" , MAE(ypred_lasso_test,Y_test ))\n",
    "print(\"Prediction of first five data :\",ypred_lasso_test[:5])"
   ]
  },
  {
   "cell_type": "markdown",
   "metadata": {},
   "source": [
    "##### Q3.5 使用下面的 𝜆 訓練模型: 0.0001, 0.0005, 0.001, 0.005, 0.01, 0.05, 0.1, 0.5, 1, 2。\n",
    "* 記錄每一個 𝜆 的Training Loss、Number of Nonzero Weights、Average Weight Size (Mean of Absolute Weight)、Training RMSE、Test RMSE\n",
    "* 將所有的結果列表、畫折線圖、並寫下你對結果的觀察。"
   ]
  },
  {
   "cell_type": "code",
   "execution_count": 138,
   "metadata": {},
   "outputs": [],
   "source": [
    "lambda_list = [0.0001, 0.0005, 0.001, 0.005, 0.01, 0.05, 0.1, 0.5, 1, 2]  "
   ]
  },
  {
   "cell_type": "code",
   "execution_count": 142,
   "metadata": {},
   "outputs": [
    {
     "data": {
      "image/png": "[encoded data removed]",
      "text/plain": [
       "<Figure size 432x288 with 1 Axes>"
      ]
     },
     "metadata": {
      "needs_background": "light"
     },
     "output_type": "display_data"
    }
   ],
   "source": [
    "#### Training Loss\n",
    "train_loss_list=[]\n",
    "for lam in lambda_list:\n",
    "    mlo = mylasso(lam)\n",
    "    mlo.fit(X_train_sd, Y_train)\n",
    "    ypred_lasso_train , feature_weight_train = mlo.predict(X_train_sd)\n",
    "    loss = train_loss_cal(ypred_lasso_train,Y_train,feature_weight,lam)\n",
    "    train_loss_list.append(loss)"
   ]
  },
  {
   "cell_type": "code",
   "execution_count": 143,
   "metadata": {},
   "outputs": [
    {
     "data": {
      "image/png": "[encoded data removed]",
      "text/plain": [
       "<Figure size 432x288 with 1 Axes>"
      ]
     },
     "metadata": {
      "needs_background": "light"
     },
     "output_type": "display_data"
    }
   ],
   "source": [
    "#### Number of Nonzero Weights\n",
    "weight_loss_list=[]\n",
    "for lam in lambda_list:\n",
    "    mlo = mylasso(lam)\n",
    "    mlo.fit(X_train_sd, Y_train)\n",
    "    ypred_lasso_train , feature_weight_train = mlo.predict(X_train_sd)\n",
    "    non_zero_cnt = non_zero_cal(feature_weight_train[1:])\n",
    "    weight_loss_list.append(non_zero_cnt)\n",
    "plt.plot(lambda_list,weight_loss_list)\n",
    "plt.show()\n",
    "plt.xlabel('lambda')\n",
    "plt.ylabel('Nonzero Count')"
   ]
  },
  {
   "cell_type": "code",
   "execution_count": 144,
   "metadata": {},
   "outputs": [
    {
     "data": {
      "image/png": "[encoded data removed]",
      "text/plain": [
       "<Figure size 432x288 with 1 Axes>"
      ]
     },
     "metadata": {
      "needs_background": "light"
     },
     "output_type": "display_data"
    }
   ],
   "source": [
    "#### MAE\n",
    "train_mae_list=[]\n",
    "for lam in lambda_list:\n",
    "    mlo = mylasso(lam)\n",
    "    mlo.fit(X_train_sd, Y_train)\n",
    "    ypred_lasso_train , feature_weight_train = mlo.predict(X_train_sd)\n",
    "    mae = MAE(ypred_lasso_train,Y_train )\n",
    "    train_mae_list.append(mae)\n",
    "plt.plot(lambda_list,train_mae_list)\n",
    "plt.show()\n",
    "plt.xlabel('lambda')\n",
    "plt.ylabel('MAE')"
   ]
  },
  {
   "cell_type": "code",
   "execution_count": 145,
   "metadata": {},
   "outputs": [
    {
     "data": {
      "image/png": "[encoded data removed]",
      "text/plain": [
       "<Figure size 432x288 with 1 Axes>"
      ]
     },
     "metadata": {
      "needs_background": "light"
     },
     "output_type": "display_data"
    }
   ],
   "source": [
    "#### Training RMSE\n",
    "train_rmse_list=[]\n",
    "for lam in lambda_list:\n",
    "    mlo = mylasso(lam)\n",
    "    mlo.fit(X_train_sd, Y_train)\n",
    "    ypred_lasso_train , feature_weight_train = mlo.predict(X_train_sd)\n",
    "    rmse = RMSE(ypred_lasso_train,Y_train)\n",
    "    train_rmse_list.append(rmse)\n",
    "plt.plot(lambda_list,train_rmse_list)\n",
    "plt.show()\n",
    "plt.xlabel('lambda')\n",
    "plt.ylabel('Train_RMSE')"
   ]
  },
  {
   "cell_type": "code",
   "execution_count": 147,
   "metadata": {},
   "outputs": [
    {
     "data": {
      "image/png": "[encoded data removed]",
      "text/plain": [
       "<Figure size 432x288 with 1 Axes>"
      ]
     },
     "metadata": {
      "needs_background": "light"
     },
     "output_type": "display_data"
    }
   ],
   "source": [
    "#### Testing RMSE\n",
    "test_rmse_list=[]\n",
    "for lam in lambda_list:\n",
    "    mlo = mylasso(lam)\n",
    "    mlo.fit(X_test_sd, Y_test)\n",
    "    ypred_lasso_test , feature_weight_test = mlo.predict(X_test_sd)\n",
    "    rmse_t = RMSE(ypred_lasso_test,Y_test)\n",
    "    test_rmse_list.append(rmse_t)\n",
    "plt.plot(lambda_list,test_rmse_list)\n",
    "plt.show()\n",
    "plt.xlabel('lambda')\n",
    "plt.ylabel('Test_RMSE')"
   ]
  },
  {
   "cell_type": "code",
   "execution_count": 148,
   "metadata": {},
   "outputs": [
    {
     "data": {
      "text/plain": [
       "Text(0, 0.5, 'RMSE')"
      ]
     },
     "execution_count": 148,
     "metadata": {},
     "output_type": "execute_result"
    },
    {
     "data": {
      "image/png": "[encoded data removed]",
      "text/plain": [
       "<Figure size 432x288 with 1 Axes>"
      ]
     },
     "metadata": {
      "needs_background": "light"
     },
     "output_type": "display_data"
    }
   ],
   "source": [
    "plt.plot(lambda_list,train_rmse_list, label='training RMSE')\n",
    "plt.plot(lambda_list,test_rmse_list, label='testing RMSE')\n",
    "plt.legend()\n",
    "\n",
    "plt.xlabel('lambda')\n",
    "plt.ylabel('RMSE')"
   ]
  },
  {
   "cell_type": "markdown",
   "metadata": {},
   "source": [
    "##### Result\n",
    "1. training loss , RMSE, MAE 街隨著 lambda變大而增加，顯示隨著模型彈性越僵硬，誤差值越大\n",
    "2. nonzero wieght 隨著lambda增加，數量減少\n",
    "3. training 的RMSE比 testing 的RMSE大一點點，不過差距不大"
   ]
  },
  {
   "cell_type": "code",
   "execution_count": null,
   "metadata": {},
   "outputs": [],
   "source": []
  },
  {
   "cell_type": "code",
   "execution_count": null,
   "metadata": {},
   "outputs": [],
   "source": []
  },
  {
   "cell_type": "code",
   "execution_count": null,
   "metadata": {},
   "outputs": [],
   "source": []
  },
  {
   "cell_type": "code",
   "execution_count": null,
   "metadata": {},
   "outputs": [],
   "source": []
  },
  {
   "cell_type": "code",
   "execution_count": null,
   "metadata": {},
   "outputs": [],
   "source": []
  },
  {
   "cell_type": "code",
   "execution_count": null,
   "metadata": {},
   "outputs": [],
   "source": []
  },
  {
   "cell_type": "markdown",
   "metadata": {},
   "source": [
    "### "
   ]
  }
 ],
 "metadata": {
  "kernelspec": {
   "display_name": "Python 3",
   "language": "python",
   "name": "python3"
  },
  "language_info": {
   "codemirror_mode": {
    "name": "ipython",
    "version": 3
   },
   "file_extension": ".py",
   "mimetype": "text/x-python",
   "name": "python",
   "nbconvert_exporter": "python",
   "pygments_lexer": "ipython3",
   "version": "3.7.6"
  }
 },
 "nbformat": 4,
 "nbformat_minor": 4
}
