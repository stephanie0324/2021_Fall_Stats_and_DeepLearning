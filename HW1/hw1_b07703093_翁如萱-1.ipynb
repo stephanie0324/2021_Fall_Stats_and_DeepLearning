{
 "cells": [
  {
   "cell_type": "markdown",
   "metadata": {},
   "source": [
    "## 統計學習與深度學習 Homework 1\n",
    "#### 財金四 B07703093 翁如萱\n",
    "---"
   ]
  },
  {
   "cell_type": "markdown",
   "metadata": {},
   "source": [
    "### 使用套件"
   ]
  },
  {
   "cell_type": "code",
   "execution_count": 1,
   "metadata": {},
   "outputs": [],
   "source": [
    "import numpy as np\n",
    "import pandas as pd\n",
    "import pickle\n",
    "import matplotlib.pyplot as plt  \n",
    "from sklearn import preprocessing\n",
    "from sklearn.neighbors import KNeighborsRegressor\n",
    "\n",
    "np.set_printoptions(suppress=True)"
   ]
  },
  {
   "cell_type": "markdown",
   "metadata": {},
   "source": [
    "### 常用函數 - 損失函數\n",
    "可選擇以 RMSE 或是 MAE 作為衡量指標"
   ]
  },
  {
   "cell_type": "code",
   "execution_count": 2,
   "metadata": {},
   "outputs": [],
   "source": [
    "def cal_loss(pred, actual, mode = 'RMSE'):\n",
    "    \"\"\"mode can be RMSE or MAE\"\"\"\n",
    "    if (mode == 'RMSE'):\n",
    "        return np.sqrt(np.mean((actual - pred)**2))\n",
    "        \n",
    "    elif (mode == 'MAE'):\n",
    "        return np.mean(np.abs(actual - pred))\n",
    "    \n",
    "    else:\n",
    "        return \"mode can only be MAE or MASE\""
   ]
  },
  {
   "cell_type": "markdown",
   "metadata": {},
   "source": [
    "---\n",
    "### 第一題 [myknn_regressor]"
   ]
  },
  {
   "cell_type": "markdown",
   "metadata": {},
   "source": [
    "#### Q1.1"
   ]
  },
  {
   "cell_type": "markdown",
   "metadata": {},
   "source": [
    "本題目的為根據題目所提供的架構，手刻一個命名為 myknn_regressor 的 knn 模型。"
   ]
  },
  {
   "cell_type": "code",
   "execution_count": 3,
   "metadata": {},
   "outputs": [],
   "source": [
    "class myknn_regressor():\n",
    "    def __init__(self, n_neighbors = 10, mean_type = \"equal_weight\"):\n",
    "        \"\"\"mean_type can be equal_weight or remove_outliers.\n",
    "           equal_weight use the same weight for all neighbors.\n",
    "           remove_outliers remove neighbors out in [Q1 - 1.5 IQR, Q3 + 1.5IQR].\n",
    "        \"\"\"\n",
    "        self.n_neighbors = n_neighbors\n",
    "        self.mean_type = mean_type\n",
    "\n",
    "    def fit(self, x_train, y_train):\n",
    "        self.x_train = x_train\n",
    "        self.y_train = y_train\n",
    "\n",
    "    def predict(self, x_test):\n",
    "        \"\"\"use remove_outliers only if k>=10\"\"\"\n",
    "        # 只要 k < 10, 一律使用 equal_weights 模式\n",
    "        if (self.n_neighbors < 10 and self.mean_type == \"remove_outliers\"):\n",
    "            self.mean_type = \"equal_weights\"\n",
    "        \n",
    "        # 用以存放最後的預測結果\n",
    "        y_pred = []\n",
    "        \n",
    "        # 開始預測各筆資料\n",
    "        for testData in x_test:\n",
    "            # 計算出與 train data 個資料之距離, 並將距離、索引值、y值合併為一個 tuple list\n",
    "            dist = np.sqrt(np.sum((self.x_train - testData)**2, axis = 1)).reshape(-1, 1) \n",
    "            idx = np.arange(self.x_train.shape[0]).reshape(-1, 1) \n",
    "            y = self.y_train.reshape(-1, 1)\n",
    "            \n",
    "            idxDistY = np.concatenate((idx, dist, y), axis = 1)            \n",
    "            idy_tuple = np.array(list(map(tuple, idxDistY)), dtype = np.dtype([('idx', int), ('dist', float), ('y', int)]))\n",
    "            \n",
    "            # 進行排序以後, 選出前 k 筆的資料。\n",
    "            selectedIdx = np.argsort(idy_tuple, order = ('dist', 'idx'))[:self.n_neighbors]\n",
    "            selected = idxDistY[selectedIdx]\n",
    "            \n",
    "            # 假如選擇的模式是 remove_outliers, 則需要將極端值移除\n",
    "            if (self.mean_type == \"remove_outliers\"):\n",
    "                # 計算上下界\n",
    "                q1 = np.percentile(selected[:, -1], 25)\n",
    "                q3 = np.percentile(selected[:, -1], 75)\n",
    "                iqr = q3 - q1\n",
    "                upper = q3 + 1.5 * iqr\n",
    "                lower = q1 - 1.5 * iqr\n",
    "                \n",
    "                # 僅保留 y 未過界的觀測值\n",
    "                selected = selected[((selected[:,-1] <= upper) & (selected[:, -1] >= lower))]\n",
    "            \n",
    "            # 計算所有選擇點的 y 的平均值, 作為預測結果\n",
    "            pre = np.mean(selected[:, -1])\n",
    "            \n",
    "            # 紀錄預測結果\n",
    "            y_pred.append(pre)\n",
    "        \n",
    "        y_pred = np.array(y_pred)\n",
    "        \n",
    "        return y_pred"
   ]
  },
  {
   "cell_type": "markdown",
   "metadata": {},
   "source": [
    "```步驟說明```\n",
    "\n",
    "**__init__**\n",
    "- 引數初始化，包含 k 值的設定，還有在計算平均值以前是否需要先移除極端值。\n",
    "\n",
    "**fit**\n",
    "- 設定訓練集資料 (X_train, Y_train)\n",
    "\n",
    "**predict**\n",
    "- 首先確認是否出現 k < 10 且選擇 remove_outliers 的狀況，若有則直接將模式改為 equal_weights。\n",
    "- 接著計算各筆測試資料與 X_train 各觀測值之距離 (Euclidean distance)，並將其於訓練集當中的索引值與 y 值合併為一個 tuple list。\n",
    "- 根據距離與索引值進行遞減排序（當有兩筆資料的距離值相等，則會取索引值較前面者）。\n",
    "- 取出前 k 筆資料。\n",
    "- 假設選擇 remove_outliers 模式，則先移除離群值。\n",
    "- 計算被選擇點的 y 之平均值，即該筆測試資料的預測值。\n",
    "---"
   ]
  },
  {
   "cell_type": "markdown",
   "metadata": {},
   "source": [
    "#### Q1.2"
   ]
  },
  {
   "cell_type": "markdown",
   "metadata": {},
   "source": [
    "匯入特徵值有經過標準化的資料集，並且將模型的 k 設定為 20，模式則設定為 equal_weights。接著進行預測，最後列出前 20 筆預測值還有 RMSE。"
   ]
  },
  {
   "cell_type": "markdown",
   "metadata": {},
   "source": [
    "```匯入資料```"
   ]
  },
  {
   "cell_type": "code",
   "execution_count": 4,
   "metadata": {},
   "outputs": [],
   "source": [
    "# Load data\n",
    "def load_data(doscaling = 1):\n",
    "    \"\"\"load data\n",
    "       doscaling: apply feature scaling or not. \n",
    "    \"\"\"\n",
    "    with open('msd_data1.pickle', 'rb') as fh1:\n",
    "        msd_data = pickle.load(fh1)\n",
    "\n",
    "    if (doscaling == 1):\n",
    "        xscaler = preprocessing.StandardScaler().fit(msd_data['X_train'])\n",
    "        #standardize feature values\n",
    "        X_train = xscaler.transform(msd_data['X_train'])\n",
    "        X_test = xscaler.transform(msd_data['X_test'])\n",
    "    else:\n",
    "        X_train = msd_data['X_train']\n",
    "        X_test = msd_data['X_test']\n",
    "\n",
    "    Y_train = msd_data['Y_train']\n",
    "    Y_test = msd_data['Y_test']\n",
    "\n",
    "    return X_train, X_test, Y_train, Y_test"
   ]
  },
  {
   "cell_type": "markdown",
   "metadata": {},
   "source": [
    "```訓練模型與計算 RMSE```"
   ]
  },
  {
   "cell_type": "code",
   "execution_count": 5,
   "metadata": {},
   "outputs": [],
   "source": [
    "# 匯入資料 (需要經過標準化)\n",
    "X_train, X_test, Y_train, Y_test = load_data(doscaling = 1)\n",
    "\n",
    "# 建立預測模型，使用的 k = 20, 模式則是 equal_weight\n",
    "myknn = myknn_regressor(20, \"equal_weight\")\n",
    "myknn.fit(X_train, Y_train)\n",
    "y_pred = myknn.predict(X_test)\n",
    "\n",
    "# 計算 rmse\n",
    "rmse_equ = cal_loss(y_pred, Y_test, mode = 'RMSE')"
   ]
  },
  {
   "cell_type": "code",
   "execution_count": 6,
   "metadata": {},
   "outputs": [
    {
     "name": "stdout",
     "output_type": "stream",
     "text": [
      "k = 20, equal_weights, doscaling\n",
      "--------------------------------\n",
      "RMSE = 10.25126451549596\n",
      "first 20 predictions: \n",
      "[1993.35 1993.8  2000.65 1991.5  1992.8  1998.5  1988.1  1991.65 2002.25\n",
      " 2003.   2000.5  1998.65 1995.55 1997.2  1995.05 1997.4  1992.15 2000.45\n",
      " 2003.2  1995.75]\n"
     ]
    }
   ],
   "source": [
    "# 列印結果\n",
    "print(\"k = 20, equal_weights, doscaling\")\n",
    "print(\"--------------------------------\")\n",
    "print(f\"RMSE = {rmse_equ}\")\n",
    "print(f\"first 20 predictions: \\n{y_pred[:20]}\")"
   ]
  },
  {
   "cell_type": "markdown",
   "metadata": {},
   "source": [
    "```步驟說明```\n",
    "\n",
    "**匯入資料**\n",
    "- 直接使用題目提供的 function 匯入資料，由於本題的特徵值須經過標準化，故 doscaling 設定為 1。\n",
    "\n",
    "**進行預測與計算 RMSE**\n",
    "- 使用剛才建立完畢的 myknn_regressor，k = 20 並使用 equal_weight 模式。\n",
    "- 計算 Y_test 與預測結果 y_pred 的 RMSE。\n",
    "- 最後列印結果\n",
    "\n",
    "---"
   ]
  },
  {
   "cell_type": "markdown",
   "metadata": {},
   "source": [
    "#### Q1.3 \n",
    "匯入特徵值有經過標準化的資料集，並且將模型的 k 設定為 20，模式則設定為 remove_outliers。接著進行預測，最後列出前 20 筆預測值還有 RMSE。"
   ]
  },
  {
   "cell_type": "markdown",
   "metadata": {},
   "source": [
    "```訓練模型與計算 RMSE```"
   ]
  },
  {
   "cell_type": "code",
   "execution_count": 7,
   "metadata": {},
   "outputs": [],
   "source": [
    "# 匯入資料\n",
    "X_train, X_test, Y_train, Y_test = load_data(doscaling = 1)\n",
    "\n",
    "# 建立預測模型, k = 20, 模式則是 remove_outliers\n",
    "myknn = myknn_regressor(20, \"remove_outliers\")\n",
    "myknn.fit(X_train, Y_train)\n",
    "y_pred = myknn.predict(X_test)\n",
    "\n",
    "# 計算 rmse\n",
    "rmse_out = cal_loss(y_pred, Y_test, mode = 'RMSE')"
   ]
  },
  {
   "cell_type": "code",
   "execution_count": 8,
   "metadata": {},
   "outputs": [
    {
     "name": "stdout",
     "output_type": "stream",
     "text": [
      "k = 20, remove_outliers, doscaling\n",
      "--------------------------------\n",
      "RMSE = 10.212572466080376\n",
      "first 20 predictions: \n",
      "[1993.35       1993.8        2000.65       1992.73684211 1992.8\n",
      " 2000.         1988.1        1991.65       2002.25       2003.94736842\n",
      " 2000.5        2000.94444444 1995.55       1997.2        1998.61111111\n",
      " 1997.4        1992.15       2003.83333333 2003.2        1995.75      ]\n"
     ]
    }
   ],
   "source": [
    "# 列印結果\n",
    "print(\"k = 20, remove_outliers, doscaling\")\n",
    "print(\"--------------------------------\")\n",
    "print(f\"RMSE = {rmse_out}\")\n",
    "print(f\"first 20 predictions: \\n{y_pred[:20]}\")"
   ]
  },
  {
   "cell_type": "markdown",
   "metadata": {},
   "source": [
    "```步驟說明```\n",
    "\n",
    "**匯入資料**\n",
    "- 直接使用題目提供的 function 匯入資料，由於本題的特徵值須經過標準化，故 doscaling 設定為 1。\n",
    "\n",
    "**進行預測與計算 RMSE**\n",
    "- 使用剛才建立完畢的 myknn_regressor，k = 20 並使用 equal_weight 模式。\n",
    "- 計算 Y_test 與預測結果 y_pred 的 RMSE。\n",
    "\n",
    "**列印結果**\n",
    "- 列印出前 20 筆預測數值與 RMSE。"
   ]
  },
  {
   "cell_type": "markdown",
   "metadata": {},
   "source": [
    "---\n",
    "```Q1.2 與 Q1.3 之結果比較```\n",
    "\n",
    "**RMSE 比較**\n",
    "- equal_weights: 10.25, remove_outliers: 10.21\n",
    "- 在本題可以發現到使用 remove_outliers 模式有助於提升模型的準確度（RMSE 較小），換言之就是保留極端值很可能會使得模型準確度降低。\n",
    "---"
   ]
  },
  {
   "cell_type": "markdown",
   "metadata": {},
   "source": [
    "### 第二題  [Tuning the Hyper-parameter]"
   ]
  },
  {
   "cell_type": "markdown",
   "metadata": {},
   "source": [
    "檢視在三種不同情況下（case1: 特徵值標準化，使用 sklearn 套件；case2: 特徵值無須標準化，使用 sklearn 套件；case3: 特徵值標準化，使用 myknn_regressor）不同的 k 值與 RMSE 之間的關係。並且將結果同時呈現於一張圖表中以便於比較。"
   ]
  },
  {
   "cell_type": "code",
   "execution_count": 9,
   "metadata": {},
   "outputs": [],
   "source": [
    "# 不同的 k 值\n",
    "kList = [1, 2, 3, 4, 5, 10, 15, 20, 25, 30, 40, 45, 50, 55, 60, 80, 100, 120, 140, 160, 180, 200]"
   ]
  },
  {
   "cell_type": "markdown",
   "metadata": {},
   "source": [
    "```case1: doscaling, sklearn```"
   ]
  },
  {
   "cell_type": "code",
   "execution_count": 10,
   "metadata": {},
   "outputs": [],
   "source": [
    "# 匯入資料\n",
    "X_train, X_test, Y_train, Y_test = load_data(doscaling = 1)\n",
    "\n",
    "# 存放各個 k 值下的 rmse 值\n",
    "rmse_1 = []\n",
    "\n",
    "# 檢視各個 k 值下的結果\n",
    "for k in kList:\n",
    "    # 建立模型\n",
    "    knn_1 = KNeighborsRegressor(n_neighbors = k)\n",
    "    knn_1.fit(X_train, Y_train)\n",
    "    y_pred = knn_1.predict(X_test)\n",
    "\n",
    "    # 計算 rmse\n",
    "    rmse = cal_loss(y_pred, Y_test, mode = 'RMSE')\n",
    "    \n",
    "    # 紀錄結果\n",
    "    rmse_1.append(rmse)"
   ]
  },
  {
   "cell_type": "markdown",
   "metadata": {},
   "source": [
    "```case2: without doscaling, sklearn```"
   ]
  },
  {
   "cell_type": "code",
   "execution_count": 11,
   "metadata": {},
   "outputs": [],
   "source": [
    "# 匯入資料\n",
    "X_train, X_test, Y_train, Y_test = load_data(doscaling = 0)\n",
    "\n",
    "# 存放各個 k 值下的 rmse 值\n",
    "rmse_2 = []\n",
    "\n",
    "# 檢視在各個 k 值下的結果\n",
    "for k in kList:\n",
    "    # 建立模型\n",
    "    knn_2 = KNeighborsRegressor(n_neighbors = k)\n",
    "    knn_2.fit(X_train, Y_train)\n",
    "    y_pred = knn_2.predict(X_test)\n",
    "\n",
    "    # 計算 rmse\n",
    "    rmse = cal_loss(y_pred, Y_test, mode = 'RMSE')\n",
    "    \n",
    "    # 紀錄結果\n",
    "    rmse_2.append(rmse)"
   ]
  },
  {
   "cell_type": "markdown",
   "metadata": {},
   "source": [
    "```case3: doscaling, myknn_regressor```"
   ]
  },
  {
   "cell_type": "code",
   "execution_count": 12,
   "metadata": {},
   "outputs": [],
   "source": [
    "# 匯入資料\n",
    "X_train, X_test, Y_train, Y_test = load_data(doscaling = 1)\n",
    "\n",
    "# 存放各個 k 值下的 rmse\n",
    "rmse_3 = []\n",
    "\n",
    "# 檢視在各個 k 值下的結果\n",
    "for k in kList:\n",
    "    # 建立預測模型\n",
    "    knn_3 = myknn_regressor(k, \"remove_outliers\")\n",
    "    knn_3.fit(X_train, Y_train)\n",
    "    y_pred = knn_3.predict(X_test)\n",
    "\n",
    "    # 計算 rmse\n",
    "    rmse = cal_loss(y_pred, Y_test, mode = 'RMSE')\n",
    "    \n",
    "    # 紀錄 rmse\n",
    "    rmse_3.append(rmse)"
   ]
  },
  {
   "cell_type": "markdown",
   "metadata": {},
   "source": [
    "```繪圖```"
   ]
  },
  {
   "cell_type": "code",
   "execution_count": 13,
   "metadata": {},
   "outputs": [
    {
     "data": {
      "image/png": "[encoded data removed]",
      "text/plain": [
       "<Figure size 432x288 with 1 Axes>"
      ]
     },
     "metadata": {
      "needs_background": "light"
     },
     "output_type": "display_data"
    }
   ],
   "source": [
    "case1, = plt.plot(kList, rmse_1, label = \"case1\")\n",
    "case2, = plt.plot(kList, rmse_2, label = \"case2\")\n",
    "case3, = plt.plot(kList, rmse_3, label = \"case3\")\n",
    "\n",
    "plt.xlabel('k')\n",
    "plt.ylabel('RMSE')\n",
    "plt.legend(handles = [case1, case2, case3], loc='upper right')\n",
    "plt.title(\"The relationship between k and RMSE\")\n",
    "plt.show()"
   ]
  },
  {
   "cell_type": "markdown",
   "metadata": {},
   "source": [
    "```結果觀察```\n",
    "\n",
    "**執行速度**\n",
    "- 使用 sklearn (case1, case2) 的執行速度很明顯的快於使用我們手刻的 myknn_regressor (case3) 之速度。\n",
    "- 可能原因是我們在於我們手刻的模型是使用 brute method，而 sklearn 有使用特殊的資料結構處理以加快速度；再來就是我的程式碼寫得並不夠有效率。\n",
    "\n",
    "**RMSE**\n",
    "- 可以發現到三種情況下的 RMSE 大致上都是隨著 k 的增加而下降；另外大概是在 k = 10, 15 附近開始趨於平緩。\n",
    "- 在 k 值很小時，三個情況的 RMSE 曲線幾近重疊，而在差不多 k = 10, 15 的點時未經標準化的 case2 開始與其他兩者出現分歧；而 case1 與 case3 則較晚出現分歧，原因在於在 k < 10 時，並無法使用 remove_outliers，因此原則上在 k < 10 時，兩者結果相同。\n",
    "- 而根據圖表也可以發現到，模型準確度的優劣排序大致上是 case3, case1, case2，也就是說特徵值標準化與移除極端值是有助於提升模型效果的。\n",
    "---"
   ]
  },
  {
   "cell_type": "markdown",
   "metadata": {},
   "source": [
    "### 第三題  [Lasso Regression]"
   ]
  },
  {
   "cell_type": "markdown",
   "metadata": {},
   "source": [
    "### Q3.1\n",
    "根據題目給定的 $L$ 推導出新的 Coordinate Descent with Soft Thresholding 公式。"
   ]
  },
  {
   "cell_type": "markdown",
   "metadata": {},
   "source": [
    "```推導```\n",
    "\n",
    "Calculate the derivative of loss function:\n",
    "\n",
    "$$\n",
    "L = \\frac{1}{2n} \\sum_{i=1}^n (y_i - \\mathbf{w}^T \\mathbf{x}_i - w_0)^2 + \\lambda [\\sum_{j=1}^{M} |w_j|]\n",
    "$$\n",
    "\n",
    "\n",
    "$$\\frac{\\partial L}{\\partial w_j}\n",
    "=\\frac{1}{n} \\sum_{i=1}^n(y_i-w^Tx_i-w_0)(-x_{i,j})+\\lambda sgn(w_j) \\\\ \n",
    "= \\frac{1}{n}\\sum_{i=1}^n(y_i-w^T_{-j}x_{i,-j}-w_jx_{i,j}-w_0)(-x_{i,j})+\\lambda sgn(w_j) \\\\\n",
    "= \\frac{1}{n}\\sum_{i=1}^n(y_i-w^T_{-j}x_{i,-j})(-x_{i,j})\n",
    "+ \\frac{1}{n} w_j \\sum_{i=1}^n(x_{i,j}^2)+\\lambda sgn(w_j)$$\n",
    "\n",
    "Use $\\tilde {w}$ as the starting value, and solve:\n",
    "$$\\frac{1}{n}\\sum_{i=1}^n(y_i-w^T_{-j}x_{i,-j})(-x_{i,j})\n",
    "+ \\frac{1}{n} w_j \\sum_{i=1}^n(x_{i,j}^2)+\\lambda sgn(w_j) = 0 \\\\\n",
    "w_j = \\frac{\\sum_{i=1}^n(y_i-w^T_{-j}x_{i,-j})x_{i,j}-n \\lambda sgn(w_j)}{\\sum_{i=1}^nx_{i,j}^2}$$\n",
    "\n",
    "Hence, if we set $$w_j^* = \\frac{\\sum_{i=1}^n(y_i-w^T_{-j}x_{i,-j})x_{i,j}}{\\sum_{i=1}^nx_{i,j}^2}$$\n",
    "\n",
    "then:\n",
    "\n",
    "$$w_j=w_{j}^*-\\frac{n\\lambda}{\\sum_{i=1}^nx_{i,j}^2} ,\\: if \\: w_j=w_{j}^*-\\frac{n\\lambda}{\\sum_{i=1}^nx_{i,j}^2} > 0$$\n",
    "\n",
    "$$w_j=w_{j}^*+\\frac{n\\lambda}{\\sum_{i=1}^nx_{i,j}^2} ,\\: if \\: w_j=w_{j}^*+\\frac{n\\lambda}{\\sum_{i=1}^nx_{i,j}^2} < 0$$\n",
    "\n",
    "$$w_j=0 ,\\: otherwise$$"
   ]
  },
  {
   "cell_type": "markdown",
   "metadata": {},
   "source": [
    "```說明```\n",
    "\n",
    "- 本題使用的 $L$ 是沒有 regularized bias term 的。\n",
    "- 推導出的公式和投影片的基本上大同小異，只差在 $\\lambda$ 前的 $n$ 倍數。"
   ]
  },
  {
   "cell_type": "markdown",
   "metadata": {},
   "source": [
    "---\n",
    "### Q3.2\n",
    "本題目標在於依據題目給定的架構建立名為 mylasso 的 lasso 模型。"
   ]
  },
  {
   "cell_type": "code",
   "execution_count": 14,
   "metadata": {},
   "outputs": [],
   "source": [
    "class mylasso():\n",
    "    def __init__(self, lamcoef = 0.1, max_iter=1000, tol=1e-6, const_regu = False):\n",
    "        \"\"\"lamcoef: the regularization coefficient\n",
    "           max_iter: maximum number of iteration for model training\n",
    "           tol: tolerance for the stopping criteria for model training\n",
    "           const_regu: whether the constant term should be regularized, default to False\n",
    "           \"\"\"\n",
    "        self.lamcoef = lamcoef\n",
    "        self.max_iter = max_iter\n",
    "        self.tol = tol\n",
    "        self.const_regu = const_regu\n",
    "\n",
    "    def fit(self, x_train, y_train, winit = \"ridge\", keep_traindata = True, verbose = False):\n",
    "        \"\"\"Fit a Lasso model\n",
    "           x_train: a numpy matrix that contains training features\n",
    "           y_train: a numpy matrix that contains the label\n",
    "           winit: how weights are initialized, default to \"ridge\", ridge regression\n",
    "           keep_traindata: whether the object is going to keep training data after the training process completed\n",
    "           verbose: output a lot of message\"\"\"\n",
    "\n",
    "        # 將 x_train 新增截距項, 並且將 y_train 改為行向量\n",
    "        y_train = y_train.reshape(-1, 1)\n",
    "        intercept = np.ones((x_train.shape[0], 1))\n",
    "        x_train = np.concatenate((intercept, x_train), axis = 1)\n",
    "        \n",
    "        # soft-threshold formula\n",
    "        def soft_threshold(alpha, beta):\n",
    "            if(alpha - beta > 0):\n",
    "                return alpha - beta\n",
    "            elif(alpha + beta < 0):\n",
    "                return alpha + beta\n",
    "            else:\n",
    "                return 0\n",
    "        \n",
    "        # loss function (即為 L)\n",
    "        def loss_function(w, reg_w):\n",
    "            \"\"\"w 為所有特徵值 (包含截距項) 的權重, 而 reg_w 則是需要正規化的權重 (可能有截距項也可能沒有截距項)\"\"\"\n",
    "            loss = (np.dot((y_train - np.dot(x_train, w)).T, (y_train - np.dot(x_train, w)))) / (2 * x_train.shape[0]) + self.lamcoef * np.sum(np.abs(reg_w))\n",
    "            \n",
    "            return loss\n",
    "        \n",
    "        # 權重初始化\n",
    "        omega = np.eye(x_train.shape[1])\n",
    "        \n",
    "        if(self.const_regu == False):\n",
    "            omega[0][0] = 0\n",
    "        \n",
    "        # 根據 ridge regression 的解公式, 計算出初始化的 w \n",
    "        w = np.linalg.inv(np.dot(x_train.T, x_train) + self.lamcoef * omega).dot(np.dot(x_train.T, y_train)).reshape(-1, 1) \n",
    "        wAmount = w.shape[0]\n",
    "        \n",
    "        # 在不同情況下, 要進行修正的 w 的起始點以及要進行正規化的 w \n",
    "        reg_w = w.copy()\n",
    "        \n",
    "        if(self.const_regu):\n",
    "            startIdx = 0\n",
    "        else:\n",
    "            startIdx = 1\n",
    "            reg_w[0] = 0\n",
    "\n",
    "        # coordinating descent\n",
    "        \n",
    "        # 存取 loss\n",
    "        loss = []\n",
    "        # 計算上一次的 Loss\n",
    "        lastLoss = loss_function(w, reg_w)\n",
    "        loss.append(lastLoss)\n",
    "        \n",
    "        for time in range(self.max_iter):\n",
    "            # 開始更新各個權重\n",
    "            for idx in range(startIdx, wAmount):\n",
    "                # other_w: 排除特定 w 的其他 w, other_x: 少了特定特徵的x, idx_x: 特定的特徵, N: 觀測值數量\n",
    "                other_w = np.delete(w, idx).reshape(-1, 1)\n",
    "                other_x = np.delete(x_train, idx, axis = 1)\n",
    "                idx_x = x_train[:, idx]\n",
    "                N = x_train.shape[0]\n",
    "                \n",
    "                # 代入 soft thresholding 公式\n",
    "                alpha = np.dot(idx_x, (y_train - np.dot(other_x, other_w))) / np.sum(idx_x**2)\n",
    "                beta = N * self.lamcoef / np.sum(idx_x**2)\n",
    "                new_w = soft_threshold(alpha, beta)\n",
    "                \n",
    "                # 參數更新\n",
    "                w[idx] = new_w\n",
    "                reg_w[idx] = new_w\n",
    "            \n",
    "            currentLoss = loss_function(w, reg_w)\n",
    "            loss.append(currentLoss)\n",
    "            \n",
    "            # 判斷 loss 的變化幅度, 以決定是否停止更新權重\n",
    "            if(abs(currentLoss - lastLoss) < self.tol):\n",
    "                break\n",
    "            \n",
    "            lastLoss = currentLoss\n",
    "        \n",
    "        # 得到最終的權重結果以及 training loss\n",
    "        self.w = w\n",
    "        self.trainLoss = min(loss)\n",
    "        \n",
    "        # 關於是否保留 train data\n",
    "        if (keep_traindata):\n",
    "            self.x_train = x_train\n",
    "            self.y_train = y_train\n",
    "        \n",
    "        # 是否列印出權重資訊\n",
    "        if (verbose):\n",
    "            print(w.reshape(1, -1))\n",
    "        \n",
    "    def predict(self, x_test):\n",
    "        \"\"\"Make prediction using trained model\"\"\"\n",
    "        \n",
    "        # 在 x_test 中加入截距項\n",
    "        intercept = np.ones((x_test.shape[0], 1))\n",
    "        x_test = np.concatenate((intercept, x_test), axis = 1)\n",
    "        \n",
    "        # 利用 fit 的權重估計結果來得到預測值\n",
    "        y_pred = np.dot(x_test, self.w).reshape(1,-1)\n",
    "        \n",
    "        return y_pred"
   ]
  },
  {
   "cell_type": "markdown",
   "metadata": {},
   "source": [
    "```步驟說明```\n",
    "\n",
    "**資料處理**\n",
    "- 將解釋變數 (X) 加上截距項，而被解釋變數 (Y) 的資料型態改為行向量。\n",
    "\n",
    "**權重初始化**\n",
    "- 本題是以 ridge regression 作為權重初始化的方式，以下根據是否有 regularized bias term 分成兩個情況。\n",
    "\n",
    "- Loss function 與權重之推導：\n",
    "\n",
    "$$\\frac{\\partial(Y-X\\beta)^T(Y-X\\beta) + \\lambda \\beta^T \\Omega \\beta}{\\partial \\beta} = 0, \n",
    "\\: \\Omega = diag(0, 1, 1, ..., 1)\\\\\n",
    " \\frac{\\partial Y^TY - 2Y^TX\\beta + \\beta ^TX^TX\\beta + \\lambda \\beta^T \\Omega \\beta}{\\partial \\beta} = 0 \\\\\n",
    " 0 - 2X^TY + 2X^TX\\beta + 2\\lambda \\Omega \\beta = 0 \\\\\n",
    " (X^TX + \\lambda \\Omega)\\beta = X^TY \\\\\n",
    " \\beta = (X^TX + \\lambda \\Omega)^{-1} X^TY\n",
    "$$\n",
    "\n",
    "- 若有 bias regularized term: $\\Omega = I; \\: 否則, \\: \\Omega = diag(0, 1, 1, ..., 1)$ \n",
    "\n",
    "**Coordinate Descent with Soft Thresholding**\n",
    "- 定義 loss_function：用以計算每次迭代以後的 L 值，以判斷改變幅度。另外參數 w 代表的是包含截距項的所有權重，而 reg_w 則是需要懲罰的權重，假設 const_regu 為 True，則包含截距項，反而則不包含。\n",
    "- 定義 soft_threshold：函式內容即 Q3.1 的公式。\n",
    "- Coordinate Descent：開始進行權重更新，若迭代次數超過 max_iter 則停止更新，而一次的迭代定義為更新完所有的權重；另外若 L 的變化幅度小於 tol 也直接停止更新權重。最後，假若 const_regu 設定為 True，則代表著由截距項開始更新權重，反之則是從下一個權重開始更新。\n",
    "- 迭代完畢以後即可得到最終權重。\n",
    "- 為方便回答後面小題，最終會有一個 trainLoss 屬性，以得到 training loss。\n",
    "- 而 w 屬性則是最後使用的權重。\n",
    "\n",
    "**關於 keep_traindata 與 verbose**\n",
    "- 若 keep_traindata 為 True，則有 x_train, y_train 的屬性。\n",
    "- 若 verbose 為 True，則執行完畢時會列印出權重結果。\n",
    "\n",
    "**得到預測值**\n",
    "- 將解釋變數加入截距項。\n",
    "- 傳入欲預測的資料以後，即可利用方才得到的權重進行預測。\n",
    "---"
   ]
  },
  {
   "cell_type": "markdown",
   "metadata": {},
   "source": [
    "### Q3.3\n",
    "載入資料集以後，使用 training data 來計算權重；另外 lamcoef = 0.1，其他參數則使用預設值。最後列出 Training Loss、Training RMSE、Training MAE、截距項、除了截距項以外的權重、非零權重個數。"
   ]
  },
  {
   "cell_type": "markdown",
   "metadata": {},
   "source": [
    "```匯入資料```"
   ]
  },
  {
   "cell_type": "code",
   "execution_count": 15,
   "metadata": {},
   "outputs": [],
   "source": [
    "#load the dataset, and create normalized and raw features. \n",
    "\n",
    "#Load data\n",
    "with open('msd_data1.pickle', 'rb') as fh1:\n",
    "    msd_data = pickle.load(fh1)\n",
    "\n",
    "xscaler = preprocessing.StandardScaler().fit(msd_data['X_train'])\n",
    "#standardize feature values\n",
    "X_train_sd = xscaler.transform(msd_data['X_train'])\n",
    "X_test_sd = xscaler.transform(msd_data['X_test'])\n",
    "\n",
    "#outcome values\n",
    "Y_train = msd_data['Y_train']\n",
    "Y_test = msd_data['Y_test']"
   ]
  },
  {
   "cell_type": "markdown",
   "metadata": {},
   "source": [
    "```訓練模型```"
   ]
  },
  {
   "cell_type": "code",
   "execution_count": 16,
   "metadata": {},
   "outputs": [],
   "source": [
    "# 擬合模型\n",
    "mlo = mylasso(lamcoef = 0.1)\n",
    "mlo.fit(X_train_sd, Y_train)\n",
    "train_pred = mlo.predict(X_train_sd)"
   ]
  },
  {
   "cell_type": "markdown",
   "metadata": {},
   "source": [
    "```計算數值並列印結果```"
   ]
  },
  {
   "cell_type": "code",
   "execution_count": 17,
   "metadata": {},
   "outputs": [
    {
     "name": "stdout",
     "output_type": "stream",
     "text": [
      "Training Loss: 49.888404109953676\n",
      "RMSE in Training Data: 9.719499089084632\n",
      "MAE in Training Data: 6.980898009625434\n",
      "Intercept: 1998.266\n",
      "Total number of non-zero coef.: 59\n",
      "Feature Weights:\n",
      " [ 4.6518551  -2.45673153 -1.06195885  0.         -0.34275054 -2.94854329\n",
      "  0.         -0.39970268 -0.42653866  0.         -0.23498651 -0.39491058\n",
      "  0.50307719  0.         -0.34207893  0.61674589  0.15722753  0.43489925\n",
      "  0.43595375  1.12941661  0.40663481  0.          1.77743607  0.\n",
      " -0.16842728  0.07833529  0.66391172  0.01297938  0.15350723  0.\n",
      " -0.21762074 -0.22189107  0.         -0.0027548  -0.01707674 -0.2599464\n",
      "  0.          0.28969362  0.34893387  0.         -0.26112569 -0.14488702\n",
      " -0.00995271  0.03497723 -0.03984338  0.          0.00299383 -0.17804306\n",
      "  0.          0.06494382  0.27076506  0.          0.          0.\n",
      "  0.          0.         -0.63813223  0.23761428 -0.19016387  0.\n",
      " -0.18875525  0.         -0.13590668  0.0612754  -0.26619017  0.\n",
      "  0.          0.         -0.03099184  0.         -0.19276517  0.01221358\n",
      "  0.20735199  0.25118247  0.12313494  0.          0.         -0.52945662\n",
      "  0.          0.          0.17859187  0.02408561  0.25291058  0.19360205\n",
      "  0.37064854  0.          0.         -0.29169753  0.          0.        ]\n"
     ]
    }
   ],
   "source": [
    "# 計算數值\n",
    "trainLoss = mlo.trainLoss[0][0]\n",
    "rmse = cal_loss(train_pred, Y_train, mode = 'RMSE')\n",
    "mae = cal_loss(train_pred, Y_train, mode = 'MAE')\n",
    "intercept = mlo.w[0][0]\n",
    "coef = mlo.w[1:].reshape(1, -1)[0]\n",
    "nonzeroCount = len(np.where(coef != 0)[0])\n",
    "\n",
    "print(f\"Training Loss: {trainLoss}\")\n",
    "print(f\"RMSE in Training Data: {rmse}\")\n",
    "print(f\"MAE in Training Data: {mae}\")\n",
    "print(f\"Intercept: {intercept}\")\n",
    "print(f\"Total number of non-zero coef.: {nonzeroCount}\")\n",
    "print(f\"Feature Weights:\\n {coef}\")"
   ]
  },
  {
   "cell_type": "markdown",
   "metadata": {},
   "source": [
    "```步驟說明```\n",
    "\n",
    "**匯入資料**\n",
    "- 直接使用題目提供的程式碼匯入所需資料\n",
    "\n",
    "**訓練模型與得到預測值**\n",
    "- 利用 X_train_sd 與 Y_train 來訓練模型。\n",
    "- 由於本題需要求得的是 Training RMSE, MAE 等與訓練集資料相關的數值，因此傳入的資料集仍然是 X_train_sd，如此一來才可以得到其預測值 (train_pred)。\n",
    "\n",
    "**列印結果**\n",
    "- Training Loss：取得 trainLoss 屬性。\n",
    "- RMSE, MAE：將 train_pred 與 Y_train 傳入 cal_loss 函式當中，以求得數值。\n",
    "- Intercept 與 Feauture Weights：取得 w 屬性。\n",
    "- 非零權重個數：計算 Feature Weights 當中的非零數值個數。"
   ]
  },
  {
   "cell_type": "markdown",
   "metadata": {},
   "source": [
    "```結果說明```\n",
    "- 截距項的結果看起來是個合理的年分。\n",
    "- 可以發現到當迴歸式中加入懲罰項，部分權重可能為變為 0。\n",
    "---"
   ]
  },
  {
   "cell_type": "markdown",
   "metadata": {},
   "source": [
    "### Q3.4\n",
    "使用上一題的模型來計算測試資料的預測值。"
   ]
  },
  {
   "cell_type": "markdown",
   "metadata": {},
   "source": [
    "```預測結果以列印結果```"
   ]
  },
  {
   "cell_type": "code",
   "execution_count": 18,
   "metadata": {},
   "outputs": [
    {
     "name": "stdout",
     "output_type": "stream",
     "text": [
      "first five predictions:\n",
      " [1991.93191145 1999.07198637 2001.76293602 1991.30317029 1994.42657933]\n",
      "Test RMSE: 9.648414790970714\n",
      "Test MAE: 6.9213859614967586\n"
     ]
    }
   ],
   "source": [
    "# 使用剛才訓練的模型來預測資料, 還有得到 RMSE, MAE\n",
    "test_pred = mlo.predict(X_test_sd)\n",
    "rmse = cal_loss(test_pred, Y_test, mode = 'RMSE')\n",
    "mae = cal_loss(test_pred, Y_test, mode = 'MAE')\n",
    "\n",
    "# 列印結果\n",
    "print(f\"first five predictions:\\n {test_pred[0][:5]}\")\n",
    "print(f\"Test RMSE: {rmse}\")\n",
    "print(f\"Test MAE: {mae}\")"
   ]
  },
  {
   "cell_type": "markdown",
   "metadata": {},
   "source": [
    "```步驟說明```\n",
    "- 原則上和 Q3.3 步驟相同，但是這次 predict 的資料是 test data，也因此計算 RMSE 與 MAE 時，要使用的是 test_pred 還有 Y_test。\n",
    "\n",
    "```Q3.3 和 Q3.4 之結果比較```\n",
    "- 無論是以 RMSE 還是 MAE 衡量，測試集的數值皆較訓練集來得小。\n",
    "- 這個現象感覺有點奇妙，有幾個可能原因：我的模型有錯誤、資料分布問題、參數設定問題。\n",
    "---"
   ]
  },
  {
   "cell_type": "markdown",
   "metadata": {},
   "source": [
    "### Q3.5\n",
    "將不同的 lamcoef 代入模型之中，並且紀錄 Training Loss, Number of Nonzero Weights, Average Weight Size, Training RMSE, Test RMSE 等數值，最後皆結果列表與畫圖。"
   ]
  },
  {
   "cell_type": "code",
   "execution_count": 19,
   "metadata": {},
   "outputs": [],
   "source": [
    "lambdaList = [0.0001, 0.0005, 0.001, 0.005, 0.01, 0.05, 0.1, 0.5, 1, 2]"
   ]
  },
  {
   "cell_type": "markdown",
   "metadata": {},
   "source": [
    "```建立模型以記錄數值```"
   ]
  },
  {
   "cell_type": "code",
   "execution_count": 20,
   "metadata": {},
   "outputs": [],
   "source": [
    "trainLoss = []\n",
    "nonzeroCount = []\n",
    "avgWeight = []\n",
    "trainRmse = []\n",
    "testRmse = []\n",
    "\n",
    "# 檢視不同 lambda 下的結果 \n",
    "for l in lambdaList:\n",
    "    # 訓練模型並得到預測值\n",
    "    mlo = mylasso(lamcoef = l)\n",
    "    mlo.fit(X_train_sd, Y_train)\n",
    "    train_pred = mlo.predict(X_train_sd)\n",
    "    test_pred = mlo.predict(X_test_sd)\n",
    "    \n",
    "    # 計算數值\n",
    "    loss = mlo.trainLoss[0][0]\n",
    "    coef = mlo.w[1:].reshape(1, -1)[0]\n",
    "    nonzero = len(np.where(coef != 0)[0])\n",
    "    avg = np.mean(np.abs(coef))\n",
    "    train_rmse = cal_loss(train_pred, Y_train, mode = 'RMSE')\n",
    "    test_rmse = cal_loss(test_pred, Y_test, mode = 'RMSE')\n",
    "    \n",
    "    # 加入串列\n",
    "    trainLoss.append(loss)\n",
    "    nonzeroCount.append(nonzero)\n",
    "    avgWeight.append(avg)\n",
    "    trainRmse.append(train_rmse)\n",
    "    testRmse.append(test_rmse)"
   ]
  },
  {
   "cell_type": "markdown",
   "metadata": {},
   "source": [
    "```整理表格```"
   ]
  },
  {
   "cell_type": "code",
   "execution_count": 21,
   "metadata": {},
   "outputs": [
    {
     "data": {
      "text/html": [
       "<div>\n",
       "<style scoped>\n",
       "    .dataframe tbody tr th:only-of-type {\n",
       "        vertical-align: middle;\n",
       "    }\n",
       "\n",
       "    .dataframe tbody tr th {\n",
       "        vertical-align: top;\n",
       "    }\n",
       "\n",
       "    .dataframe thead th {\n",
       "        text-align: right;\n",
       "    }\n",
       "</style>\n",
       "<table border=\"1\" class=\"dataframe\">\n",
       "  <thead>\n",
       "    <tr style=\"text-align: right;\">\n",
       "      <th></th>\n",
       "      <th>$\\lambda$</th>\n",
       "      <th>Training Loss</th>\n",
       "      <th># nonzero weight</th>\n",
       "      <th>Avg Weight Size</th>\n",
       "      <th>Training RMSE</th>\n",
       "      <th>Test RMSE</th>\n",
       "    </tr>\n",
       "  </thead>\n",
       "  <tbody>\n",
       "    <tr>\n",
       "      <th>0</th>\n",
       "      <td>0.0001</td>\n",
       "      <td>46.570461</td>\n",
       "      <td>90</td>\n",
       "      <td>0.470656</td>\n",
       "      <td>9.650516</td>\n",
       "      <td>9.644374</td>\n",
       "    </tr>\n",
       "    <tr>\n",
       "      <th>1</th>\n",
       "      <td>0.0005</td>\n",
       "      <td>46.587379</td>\n",
       "      <td>90</td>\n",
       "      <td>0.469507</td>\n",
       "      <td>9.650518</td>\n",
       "      <td>9.644092</td>\n",
       "    </tr>\n",
       "    <tr>\n",
       "      <th>2</th>\n",
       "      <td>0.0010</td>\n",
       "      <td>46.608460</td>\n",
       "      <td>90</td>\n",
       "      <td>0.467906</td>\n",
       "      <td>9.650528</td>\n",
       "      <td>9.643539</td>\n",
       "    </tr>\n",
       "    <tr>\n",
       "      <th>3</th>\n",
       "      <td>0.0050</td>\n",
       "      <td>46.774657</td>\n",
       "      <td>89</td>\n",
       "      <td>0.455754</td>\n",
       "      <td>9.650862</td>\n",
       "      <td>9.640064</td>\n",
       "    </tr>\n",
       "    <tr>\n",
       "      <th>4</th>\n",
       "      <td>0.0100</td>\n",
       "      <td>46.976826</td>\n",
       "      <td>87</td>\n",
       "      <td>0.442903</td>\n",
       "      <td>9.651758</td>\n",
       "      <td>9.636408</td>\n",
       "    </tr>\n",
       "    <tr>\n",
       "      <th>5</th>\n",
       "      <td>0.0500</td>\n",
       "      <td>48.417390</td>\n",
       "      <td>76</td>\n",
       "      <td>0.363977</td>\n",
       "      <td>9.672589</td>\n",
       "      <td>9.626434</td>\n",
       "    </tr>\n",
       "    <tr>\n",
       "      <th>6</th>\n",
       "      <td>0.1000</td>\n",
       "      <td>49.888404</td>\n",
       "      <td>59</td>\n",
       "      <td>0.294897</td>\n",
       "      <td>9.719499</td>\n",
       "      <td>9.648415</td>\n",
       "    </tr>\n",
       "    <tr>\n",
       "      <th>7</th>\n",
       "      <td>0.5000</td>\n",
       "      <td>56.375688</td>\n",
       "      <td>16</td>\n",
       "      <td>0.120031</td>\n",
       "      <td>10.096958</td>\n",
       "      <td>9.999131</td>\n",
       "    </tr>\n",
       "    <tr>\n",
       "      <th>8</th>\n",
       "      <td>1.0000</td>\n",
       "      <td>59.889324</td>\n",
       "      <td>4</td>\n",
       "      <td>0.042175</td>\n",
       "      <td>10.591844</td>\n",
       "      <td>10.474621</td>\n",
       "    </tr>\n",
       "    <tr>\n",
       "      <th>9</th>\n",
       "      <td>2.0000</td>\n",
       "      <td>61.492131</td>\n",
       "      <td>1</td>\n",
       "      <td>0.004266</td>\n",
       "      <td>11.020374</td>\n",
       "      <td>10.902614</td>\n",
       "    </tr>\n",
       "  </tbody>\n",
       "</table>\n",
       "</div>"
      ],
      "text/plain": [
       "   $\\lambda$  Training Loss  # nonzero weight  Avg Weight Size  Training RMSE  \\\n",
       "0     0.0001      46.570461                90         0.470656       9.650516   \n",
       "1     0.0005      46.587379                90         0.469507       9.650518   \n",
       "2     0.0010      46.608460                90         0.467906       9.650528   \n",
       "3     0.0050      46.774657                89         0.455754       9.650862   \n",
       "4     0.0100      46.976826                87         0.442903       9.651758   \n",
       "5     0.0500      48.417390                76         0.363977       9.672589   \n",
       "6     0.1000      49.888404                59         0.294897       9.719499   \n",
       "7     0.5000      56.375688                16         0.120031      10.096958   \n",
       "8     1.0000      59.889324                 4         0.042175      10.591844   \n",
       "9     2.0000      61.492131                 1         0.004266      11.020374   \n",
       "\n",
       "   Test RMSE  \n",
       "0   9.644374  \n",
       "1   9.644092  \n",
       "2   9.643539  \n",
       "3   9.640064  \n",
       "4   9.636408  \n",
       "5   9.626434  \n",
       "6   9.648415  \n",
       "7   9.999131  \n",
       "8  10.474621  \n",
       "9  10.902614  "
      ]
     },
     "execution_count": 21,
     "metadata": {},
     "output_type": "execute_result"
    }
   ],
   "source": [
    "# 將結果整理表格\n",
    "l = pd.DataFrame(lambdaList)\n",
    "loss = pd.DataFrame(trainLoss)\n",
    "nonzero = pd.DataFrame(nonzeroCount)\n",
    "avg = pd.DataFrame(avgWeight)\n",
    "train_r = pd.DataFrame(trainRmse)\n",
    "test_r = pd.DataFrame(testRmse)\n",
    "\n",
    "df = pd.concat([l, loss, nonzero, avg, train_r, test_r], axis = 1)\n",
    "df.columns = ['$\\lambda$', 'Training Loss', '# nonzero weight', 'Avg Weight Size', 'Training RMSE', 'Test RMSE']\n",
    "\n",
    "df"
   ]
  },
  {
   "cell_type": "markdown",
   "metadata": {},
   "source": [
    "```繪圖```"
   ]
  },
  {
   "cell_type": "code",
   "execution_count": 22,
   "metadata": {},
   "outputs": [
    {
     "data": {
      "image/png": "[encoded data removed]",
      "text/plain": [
       "<Figure size 432x288 with 1 Axes>"
      ]
     },
     "metadata": {
      "needs_background": "light"
     },
     "output_type": "display_data"
    },
    {
     "data": {
      "image/png": "[encoded data removed]",
      "text/plain": [
       "<Figure size 432x288 with 1 Axes>"
      ]
     },
     "metadata": {
      "needs_background": "light"
     },
     "output_type": "display_data"
    },
    {
     "data": {
      "image/png": "[encoded data removed]",
      "text/plain": [
       "<Figure size 432x288 with 1 Axes>"
      ]
     },
     "metadata": {
      "needs_background": "light"
     },
     "output_type": "display_data"
    },
    {
     "data": {
      "image/png": "[encoded data removed]",
      "text/plain": [
       "<Figure size 432x288 with 1 Axes>"
      ]
     },
     "metadata": {
      "needs_background": "light"
     },
     "output_type": "display_data"
    },
    {
     "data": {
      "image/png": "[encoded data removed]",
      "text/plain": [
       "<Figure size 432x288 with 1 Axes>"
      ]
     },
     "metadata": {
      "needs_background": "light"
     },
     "output_type": "display_data"
    }
   ],
   "source": [
    "itemList = [trainLoss, nonzeroCount, avgWeight, trainRmse, testRmse]\n",
    "titleList = ['Training Loss', '# nonzero weight', 'Avg Weight Size', 'Training RMSE', 'Test RMSE']\n",
    "\n",
    "for item, title in zip(itemList, titleList):\n",
    "    plt.plot(lambdaList, item)\n",
    "    plt.xlabel(\"$\\lambda$\")\n",
    "    plt.ylabel(\"value\")\n",
    "    plt.title(title)\n",
    "    plt.show()"
   ]
  },
  {
   "cell_type": "markdown",
   "metadata": {},
   "source": [
    "```結果整理```\n",
    "\n",
    "**Training Loss**\n",
    "- 隨著 $\\lambda$ 的增大而變大。\n",
    "- 我認為是合理的結果，因為 loss function 是由 MSE 與 Regularized term 所組成。當 $\\lambda$ 值越大時，因為權重值會被壓低甚至為 0，致使模型有較大的偏誤，再來正規項也很容易因 $\\lambda$ 的增大而增加。\n",
    "\n",
    "**Number of Nonzero Weights**\n",
    "- 隨著 $\\lambda$ 的增大而減少。\n",
    "- 我認為這是合理結果，因為 $\\lambda$ 越大時所造成的權重縮小效果越強。另外，lasso regression 的限制式也很容易造成角解的產生，致使很多權重被設定為 0。\n",
    "\n",
    "**Average Weight Size**\n",
    "- 隨著 $\\lambda$ 的增大而減少。\n",
    "- 我認為這是合理的結果，原因同上。\n",
    "\n",
    "**Training RMSE**\n",
    "- 隨著 $\\lambda$ 的增大而變大。\n",
    "- 我認為這是合理的結果，理由同 Training Loss。因為 $\\lambda$ 越大，越容易造成模型有大的偏誤。\n",
    "\n",
    "**Test RMSE**\n",
    "- 隨著 $\\lambda$ 的增大而變大。\n",
    "- 不太確定是不是個合理結果。覺得合理的原因同 Training Loss 的理由，覺得可能不合理的原因在於雖然 $\\lambda$ 大時偏誤大，但是變異程度也相對較小，而變異小這點應該是有可能降低 Test RMSE 的。感覺比較理想的狀況是看見類似 U 形曲線，或許是因為我的模型設定有問題，或是 $\\lambda$ 嘗試的範圍不夠廣。\n",
    "- 另外，Test RSME 皆小於 Training RMSE。"
   ]
  },
  {
   "cell_type": "code",
   "execution_count": null,
   "metadata": {},
   "outputs": [],
   "source": []
  }
 ],
 "metadata": {
  "kernelspec": {
   "display_name": "Python 3",
   "language": "python",
   "name": "python3"
  },
  "language_info": {
   "codemirror_mode": {
    "name": "ipython",
    "version": 3
   },
   "file_extension": ".py",
   "mimetype": "text/x-python",
   "name": "python",
   "nbconvert_exporter": "python",
   "pygments_lexer": "ipython3",
   "version": "3.8.5"
  }
 },
 "nbformat": 4,
 "nbformat_minor": 4
}
